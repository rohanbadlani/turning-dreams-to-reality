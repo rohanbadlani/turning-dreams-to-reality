{
 "cells": [
  {
   "cell_type": "code",
   "execution_count": 29,
   "metadata": {},
   "outputs": [],
   "source": [
    "from PIL import Image\n",
    "from resizeimage import resizeimage\n",
    "import os\n",
    "import sys\n",
    "from tqdm import tqdm"
   ]
  },
  {
   "cell_type": "code",
   "execution_count": 27,
   "metadata": {},
   "outputs": [],
   "source": [
    "INPUT_DIR = '../data/original/helen_1'\n",
    "OUTPUT_DIR = INPUT_DIR.replace(\"original\", \"resized\")"
   ]
  },
  {
   "cell_type": "code",
   "execution_count": 28,
   "metadata": {},
   "outputs": [
    {
     "data": {
      "text/plain": [
       "'30542618_1.jpg'"
      ]
     },
     "execution_count": 28,
     "metadata": {},
     "output_type": "execute_result"
    }
   ],
   "source": [
    "os.listdir(INPUT_DIR)[0]"
   ]
  },
  {
   "cell_type": "code",
   "execution_count": 30,
   "metadata": {},
   "outputs": [
    {
     "data": {
      "text/plain": [
       "'30542618_1'"
      ]
     },
     "execution_count": 30,
     "metadata": {},
     "output_type": "execute_result"
    }
   ],
   "source": [
    "os.listdir(INPUT_DIR)[0][:-4]"
   ]
  },
  {
   "cell_type": "code",
   "execution_count": 36,
   "metadata": {},
   "outputs": [
    {
     "name": "stderr",
     "output_type": "stream",
     "text": [
      "100%|██████████| 500/500 [00:22<00:00, 24.22it/s]\n",
      "100%|██████████| 500/500 [00:26<00:00, 19.21it/s]\n",
      "100%|██████████| 500/500 [00:33<00:00, 11.88it/s]\n",
      "100%|██████████| 500/500 [00:34<00:00, 11.67it/s]\n",
      "100%|██████████| 330/330 [00:23<00:00, 13.96it/s]\n"
     ]
    }
   ],
   "source": [
    "for i in range(1, 6):\n",
    "    INPUT_DIR = '../data/original/helen_' + str(i) + '/'\n",
    "    OUTPUT_DIR = INPUT_DIR.replace(\"original\", \"resized\")\n",
    "    if not os.path.exists(OUTPUT_DIR):\n",
    "        os.makedirs(OUTPUT_DIR)\n",
    "    for input_file in tqdm(os.listdir(INPUT_DIR)):\n",
    "        assert('.jpg' in input_file)\n",
    "        with open(INPUT_DIR + input_file, 'rb') as fd_img:\n",
    "            img = Image.open(fd_img)\n",
    "            img = resizeimage.resize_cover(img, [224, 224])\n",
    "            # img.save(OUTPUT_DIR + input_file[:-4] + '.png', 'png')\n",
    "            img.save(OUTPUT_DIR + input_file)"
   ]
  },
  {
   "cell_type": "code",
   "execution_count": null,
   "metadata": {},
   "outputs": [],
   "source": []
  }
 ],
 "metadata": {
  "kernelspec": {
   "display_name": "Python 3",
   "language": "python",
   "name": "python3"
  },
  "language_info": {
   "codemirror_mode": {
    "name": "ipython",
    "version": 3
   },
   "file_extension": ".py",
   "mimetype": "text/x-python",
   "name": "python",
   "nbconvert_exporter": "python",
   "pygments_lexer": "ipython3",
   "version": "3.6.7"
  }
 },
 "nbformat": 4,
 "nbformat_minor": 2
}
